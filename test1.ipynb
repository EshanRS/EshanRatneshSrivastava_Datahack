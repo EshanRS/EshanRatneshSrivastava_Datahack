{
 "cells": [
  {
   "cell_type": "code",
   "execution_count": 133,
   "metadata": {},
   "outputs": [],
   "source": [
    "# Importing libraries\n",
    "import pandas as pd\n",
    "import numpy as np\n",
    "import matplotlib.pyplot as plt\n",
    "import seaborn as sns\n",
    "from sklearn.model_selection import train_test_split\n",
    "from sklearn.preprocessing import StandardScaler, OneHotEncoder\n",
    "from sklearn.impute import SimpleImputer\n",
    "from sklearn.compose import ColumnTransformer\n",
    "from sklearn.pipeline import Pipeline\n",
    "from sklearn.multioutput import MultiOutputClassifier\n",
    "from sklearn.linear_model import LogisticRegression\n",
    "from sklearn.metrics import roc_auc_score\n",
    "from sklearn.model_selection import GridSearchCV\n",
    "from sklearn.ensemble import RandomForestClassifier"
   ]
  },
  {
   "cell_type": "code",
   "execution_count": 134,
   "metadata": {},
   "outputs": [],
   "source": [
    "\n",
    "#importing the dataset\n",
    "train_data_features = pd.read_csv('training_set_features.csv') #respondent_id,xyz_concern,xyz_knowledge,behavioral_antiviral_meds,behavioral_avoidance,behavioral_face_mask,behavioral_wash_hands,behavioral_large_gatherings,behavioral_outside_home,behavioral_touch_face,doctor_recc_xyz,doctor_recc_seasonal,chronic_med_condition,child_under_6_months,health_worker,health_insurance,opinion_xyz_vacc_effective,opinion_xyz_risk,opinion_xyz_sick_from_vacc,opinion_seas_vacc_effective,opinion_seas_risk,opinion_seas_sick_from_vacc,age_group,education,race,sex,income_poverty,marital_status,rent_or_own,employment_status,hhs_geo_region,census_msa,household_adults,household_children,employment_industry,employment_occupation\n",
    "train_data_labels = pd.read_csv('training_set_labels.csv') #respondent_id,xyz_vaccine,seasonal_vaccine\n",
    "test_data_features = pd.read_csv('test_set_features.csv') #respondent_id,xyz_concern,xyz_knowledge,behavioral_antiviral_meds,behavioral_avoidance,behavioral_face_mask,behavioral_wash_hands,behavioral_large_gatherings,behavioral_outside_home,behavioral_touch_face,doctor_recc_xyz,doctor_recc_seasonal,chronic_med_condition,child_under_6_months,health_worker,health_insurance,opinion_xyz_vacc_effective,opinion_xyz_risk,opinion_xyz_sick_from_vacc,opinion_seas_vacc_effective,opinion_seas_risk,opinion_seas_sick_from_vacc,age_group,education,race,sex,income_poverty,marital_status,rent_or_own,employment_status,hhs_geo_region,census_msa,household_adults,household_children,employment_industry,employment_occupation\n",
    "\n",
    "submission = pd.read_csv('submission_format.csv') #respondent_id,h1n1_vaccine,seasonal_vaccine"
   ]
  },
  {
   "cell_type": "code",
   "execution_count": 135,
   "metadata": {},
   "outputs": [
    {
     "name": "stdout",
     "output_type": "stream",
     "text": [
      "   respondent_id  xyz_concern  xyz_knowledge  behavioral_antiviral_meds  \\\n",
      "0              0          1.0            0.0                        0.0   \n",
      "1              1          3.0            2.0                        0.0   \n",
      "2              2          1.0            1.0                        0.0   \n",
      "3              3          1.0            1.0                        0.0   \n",
      "4              4          2.0            1.0                        0.0   \n",
      "\n",
      "   behavioral_avoidance  behavioral_face_mask  behavioral_wash_hands  \\\n",
      "0                   0.0                   0.0                    0.0   \n",
      "1                   1.0                   0.0                    1.0   \n",
      "2                   1.0                   0.0                    0.0   \n",
      "3                   1.0                   0.0                    1.0   \n",
      "4                   1.0                   0.0                    1.0   \n",
      "\n",
      "   behavioral_large_gatherings  behavioral_outside_home  \\\n",
      "0                          0.0                      1.0   \n",
      "1                          0.0                      1.0   \n",
      "2                          0.0                      0.0   \n",
      "3                          1.0                      0.0   \n",
      "4                          1.0                      0.0   \n",
      "\n",
      "   behavioral_touch_face  ...             income_poverty  marital_status  \\\n",
      "0                    1.0  ...              Below Poverty     Not Married   \n",
      "1                    1.0  ...              Below Poverty     Not Married   \n",
      "2                    0.0  ...  <= $75,000, Above Poverty     Not Married   \n",
      "3                    0.0  ...              Below Poverty     Not Married   \n",
      "4                    1.0  ...  <= $75,000, Above Poverty         Married   \n",
      "\n",
      "   rent_or_own   employment_status  hhs_geo_region                census_msa  \\\n",
      "0          Own  Not in Labor Force        oxchjgsf                   Non-MSA   \n",
      "1         Rent            Employed        bhuqouqj  MSA, Not Principle  City   \n",
      "2          Own            Employed        qufhixun  MSA, Not Principle  City   \n",
      "3         Rent  Not in Labor Force        lrircsnp       MSA, Principle City   \n",
      "4          Own            Employed        qufhixun  MSA, Not Principle  City   \n",
      "\n",
      "   household_adults  household_children  employment_industry  \\\n",
      "0               0.0                 0.0                  NaN   \n",
      "1               0.0                 0.0             pxcmvdjn   \n",
      "2               2.0                 0.0             rucpziij   \n",
      "3               0.0                 0.0                  NaN   \n",
      "4               1.0                 0.0             wxleyezf   \n",
      "\n",
      "   employment_occupation  \n",
      "0                    NaN  \n",
      "1               xgwztkwe  \n",
      "2               xtkaffoo  \n",
      "3                    NaN  \n",
      "4               emcorrxb  \n",
      "\n",
      "[5 rows x 36 columns]\n",
      "(26707, 36)\n"
     ]
    }
   ],
   "source": [
    "# Printin the first 5 rows of the dataset\n",
    "print(train_data_features.head())\n",
    "\n",
    "# Checking the shape of the dataset\n",
    "print(train_data_features.shape)"
   ]
  },
  {
   "cell_type": "code",
   "execution_count": 136,
   "metadata": {},
   "outputs": [],
   "source": [
    "# Drop the respondent_id column\n",
    "train_data_features = train_data_features.drop(columns=['respondent_id'])\n",
    "train_data_labels = train_data_labels.drop(columns=['respondent_id'])\n",
    "test_data_features = test_data_features.drop(columns=['respondent_id'])\n",
    "\n",
    "# Identify numerical and categorical columns\n",
    "numerical_cols = [cname for cname in train_data_features.columns if \n",
    "                train_data_features[cname].dtype in ['int64', 'float64']]\n",
    "categorical_cols = [cname for cname in train_data_features.columns if\n",
    "                    train_data_features[cname].nunique() < 10 and \n",
    "                    train_data_features[cname].dtype == \"object\"]\n",
    "\n",
    "\n",
    "# Preprocessing for numerical data: impute missing values and scale\n",
    "numerical_transformer = Pipeline(steps=[\n",
    "    ('imputer', SimpleImputer(strategy='mean')),\n",
    "    ('scaler', StandardScaler())\n",
    "])\n",
    "\n",
    "# Preprocessing for categorical data: impute missing values and one-hot encode\n",
    "categorical_transformer = Pipeline(steps=[\n",
    "    ('imputer', SimpleImputer(strategy='most_frequent')),\n",
    "    ('onehot', OneHotEncoder(handle_unknown='ignore'))\n",
    "])\n",
    "\n",
    "# Combine preprocessing steps\n",
    "preprocessor = ColumnTransformer(\n",
    "    transformers=[\n",
    "        ('num', numerical_transformer, numerical_cols),\n",
    "        ('cat', categorical_transformer, categorical_cols)\n",
    "    ])\n",
    "\n",
    "# Preprocess the features\n",
    "X_train = preprocessor.fit_transform(train_data_features)\n",
    "X_test = preprocessor.transform(test_data_features)\n"
   ]
  },
  {
   "cell_type": "code",
   "execution_count": 137,
   "metadata": {},
   "outputs": [
    {
     "name": "stdout",
     "output_type": "stream",
     "text": [
      "Accuracy: 0.6765256458255335\n"
     ]
    }
   ],
   "source": [
    "# Model Selection and Training\n",
    "X_train, X_test, y_train, y_test = train_test_split(X_train, train_data_labels, test_size=0.2, random_state=42)\n",
    "model = MultiOutputClassifier(LogisticRegression())\n",
    "model.fit(X_train, y_train)\n",
    "\n",
    "# Train the model\n",
    "model.fit(X_train, y_train)\n",
    "\n",
    "# Evaluate the model\n",
    "score = model.score(X_test, y_test)\n",
    "print('Accuracy:', score)\n",
    "\n",
    "# Make predictions\n",
    "y_pred_proba = model.predict_proba(X_test)\n",
    "\n",
    "# Prepare the predictions dataframe\n",
    "predictions_df = pd.DataFrame({\n",
    "    'h1n1_vaccine': y_pred_proba[0][:, 1],\n",
    "    'seasonal_vaccine': y_pred_proba[1][:, 1]\n",
    "})\n"
   ]
  },
  {
   "cell_type": "code",
   "execution_count": 138,
   "metadata": {},
   "outputs": [
    {
     "data": {
      "text/plain": [
       "0.8420105146862404"
      ]
     },
     "execution_count": 138,
     "metadata": {},
     "output_type": "execute_result"
    }
   ],
   "source": [
    "# Calculate ROC AUC score\n",
    "roc_auc_score(y_test, predictions_df)"
   ]
  },
  {
   "cell_type": "code",
   "execution_count": 139,
   "metadata": {},
   "outputs": [
    {
     "name": "stdout",
     "output_type": "stream",
     "text": [
      "{'estimator__C': 0.1, 'estimator__solver': 'lbfgs'}\n",
      "0.8391443318916452\n"
     ]
    }
   ],
   "source": [
    "# Hyperparameter Tuning\n",
    "param_grid = {\n",
    "    'estimator__C': [0.1, 1, 10],\n",
    "    'estimator__solver': ['lbfgs', 'liblinear']\n",
    "}\n",
    "\n",
    "# Grid Search\n",
    "grid_search = GridSearchCV(model, param_grid, cv=5, scoring='roc_auc')\n",
    "grid_search.fit(X_train, y_train)\n",
    "\n",
    "# Best parameters\n",
    "print(grid_search.best_params_)\n",
    "\n",
    "# Best score\n",
    "print(grid_search.best_score_)"
   ]
  },
  {
   "cell_type": "code",
   "execution_count": 140,
   "metadata": {},
   "outputs": [],
   "source": [
    "# Train the final model\n",
    "final_model = grid_search.best_estimator_\n",
    "final_model.fit(X_train, y_train)\n",
    "\n",
    "# Make predictions\n",
    "final_predictions_proba = final_model.predict_proba(X_test)\n",
    "\n",
    "# Prepare the submission file\n",
    "submission = pd.DataFrame({\n",
    "    'respondent_id': submission.loc[y_test.index, 'respondent_id'],\n",
    "    'xyz_vaccine': final_predictions_proba[0][:, 1],\n",
    "    'seasonal_vaccine': final_predictions_proba[1][:, 1]\n",
    "})\n",
    "submission.to_csv('submission.csv', index=False)"
   ]
  }
 ],
 "metadata": {
  "kernelspec": {
   "display_name": "Python 3",
   "language": "python",
   "name": "python3"
  },
  "language_info": {
   "codemirror_mode": {
    "name": "ipython",
    "version": 3
   },
   "file_extension": ".py",
   "mimetype": "text/x-python",
   "name": "python",
   "nbconvert_exporter": "python",
   "pygments_lexer": "ipython3",
   "version": "3.12.1"
  }
 },
 "nbformat": 4,
 "nbformat_minor": 2
}
